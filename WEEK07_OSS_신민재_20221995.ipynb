{
 "cells": [
  {
   "cell_type": "code",
   "execution_count": 1,
   "id": "731aacde",
   "metadata": {},
   "outputs": [
    {
     "data": {
      "text/plain": [
       "Customer(name='Park', fidelity=100)"
      ]
     },
     "execution_count": 1,
     "metadata": {},
     "output_type": "execute_result"
    }
   ],
   "source": [
    "from abc import ABC, abstractmethod\n",
    "from collections import namedtuple\n",
    "\n",
    "Customer = namedtuple('Customer', 'name fidelity')\n",
    "\n",
    "park = Customer('Park', 100)\n",
    "park"
   ]
  },
  {
   "cell_type": "code",
   "execution_count": 2,
   "id": "6bbe6b18",
   "metadata": {},
   "outputs": [],
   "source": [
    "class LineItem:\n",
    "    \"\"\"구매할 물품/갯수 생성해서 총 가격을 반환\"\"\"\n",
    "    def __init__(self, product, quantity, price):\n",
    "        self.product = product\n",
    "        self.quantity = quantity\n",
    "        self.price = price\n",
    "    \n",
    "    def total(self):\n",
    "        return self.price * self.quantity\n"
   ]
  },
  {
   "cell_type": "code",
   "execution_count": 8,
   "id": "ec93d84a",
   "metadata": {},
   "outputs": [],
   "source": [
    "class Order:\n",
    "    \"\"\"고객(namedtuple) 및 LineItem 클래스의 인스턴스들을 cart로 받아서 총 계산할 가격을 산출\"\"\"\n",
    "    def __init__(self, customer, cart, promotion=None):\n",
    "        self.customer = customer\n",
    "        self.cart = list(cart)\n",
    "        self.promotion = promotion\n",
    "    \n",
    "    def total(self):\n",
    "        \"\"\"__total 속성이 없으면 전체 계산할 값을 계산\"\"\"\n",
    "        if not hasattr(self, '__total'):\n",
    "            self.__total = sum(item.total() for item in self.cart)\n",
    "        return self.__total\n",
    "\n",
    "    def due(self):\n",
    "        \"\"\"할인금액 차감\"\"\"\n",
    "        if self.promotion is None:\n",
    "            discount = 0\n",
    "        else:\n",
    "            discount = self.promotion.discount(self)\n",
    "        return self.total() - discount\n",
    "    \n",
    "    def __repr__(self):\n",
    "        fmt = '<Order total: {:.2f} due {:.2f}>'\n",
    "        return fmt.format(self.total(), self.due())\n",
    "    "
   ]
  },
  {
   "cell_type": "code",
   "execution_count": 4,
   "id": "719a1ec5",
   "metadata": {},
   "outputs": [],
   "source": [
    "class Promotion(ABC):\n",
    "    \"\"\"할인 혜택 클래스들의 형태를 선언\"\"\"\n",
    "    \n",
    "    @abstractmethod\n",
    "    def discount(self, order):\n",
    "        \"\"\"할인액을 구체적인 숫자로 반환\"\"\"\n",
    "        pass\n"
   ]
  },
  {
   "cell_type": "code",
   "execution_count": 5,
   "id": "68d6251b",
   "metadata": {},
   "outputs": [],
   "source": [
    "class FidelityPromo(Promotion):\n",
    "    \"\"\"충성도 정수가 1000점 이상인 고객에게 전체 5% 할인 적용\"\"\"\n",
    "\n",
    "    def discount(self, order):\n",
    "        return order.total() * 0.05 if order.customer.fidelity >= 1000 else 0\n",
    "\n",
    "class BulkItemPromo(Promotion):\n",
    "    \"\"\"20개 이상의 동일 상품을 구입하면 10% 할인 적용\"\"\"\n",
    "\n",
    "    def discount(self, order):\n",
    "        discount = 0\n",
    "        for item in order.cart:\n",
    "            if item.quantity >= 20:\n",
    "                discount += item.total() * 0.1\n",
    "            return discount\n",
    "\n",
    "class LargeOrderPromo(Promotion):\n",
    "    \"\"\"10종류 이상의 상품을 구입하면 전체 7% 할인 적용\"\"\"\n",
    "\n",
    "    def discount(self, order):\n",
    "        distinct_items = {item.product for item in order.cart}\n",
    "        if len(distinct_items) >= 10:\n",
    "            return order.total() * 0.07\n",
    "        return 0\n"
   ]
  },
  {
   "cell_type": "code",
   "execution_count": 9,
   "id": "8665a07c",
   "metadata": {},
   "outputs": [],
   "source": [
    "joe = Customer('John Doe', 0)\n",
    "ann = Customer('Ann Smith', 1100)\n",
    "cart = [LineItem('banana', 4, .5),\n",
    "        LineItem('apple', 10, 1.5),\n",
    "        LineItem('watermelon', 5, 5.0)]\n"
   ]
  },
  {
   "cell_type": "code",
   "execution_count": 10,
   "id": "e5b14cc2",
   "metadata": {},
   "outputs": [
    {
     "data": {
      "text/plain": [
       "<Order total: 42.00 due 42.00>"
      ]
     },
     "execution_count": 10,
     "metadata": {},
     "output_type": "execute_result"
    }
   ],
   "source": [
    "Order(joe, cart, FidelityPromo())"
   ]
  },
  {
   "cell_type": "code",
   "execution_count": 11,
   "id": "c0df4818",
   "metadata": {},
   "outputs": [
    {
     "data": {
      "text/plain": [
       "<Order total: 42.00 due 39.90>"
      ]
     },
     "execution_count": 11,
     "metadata": {},
     "output_type": "execute_result"
    }
   ],
   "source": [
    "Order(ann, cart, FidelityPromo())"
   ]
  },
  {
   "cell_type": "code",
   "execution_count": 12,
   "id": "e4bf21eb",
   "metadata": {},
   "outputs": [],
   "source": [
    "banana_cart = [LineItem('banana', 30, .5),\n",
    "               LineItem('apple', 10, 1.5)]\n"
   ]
  },
  {
   "cell_type": "code",
   "execution_count": 13,
   "id": "736b3c01",
   "metadata": {},
   "outputs": [
    {
     "data": {
      "text/plain": [
       "<Order total: 30.00 due 28.50>"
      ]
     },
     "execution_count": 13,
     "metadata": {},
     "output_type": "execute_result"
    }
   ],
   "source": [
    "Order(joe, banana_cart, BulkItemPromo())\n"
   ]
  },
  {
   "cell_type": "code",
   "execution_count": 14,
   "id": "2e4a2be0",
   "metadata": {},
   "outputs": [
    {
     "data": {
      "text/plain": [
       "<Order total: 10.00 due 9.30>"
      ]
     },
     "execution_count": 14,
     "metadata": {},
     "output_type": "execute_result"
    }
   ],
   "source": [
    "long_order = [LineItem(str(item_code), 1, 1.0) for item_code in range(10)]\n",
    "\n",
    "Order(joe, long_order, LargeOrderPromo())"
   ]
  },
  {
   "cell_type": "code",
   "execution_count": 15,
   "id": "6dd6b654",
   "metadata": {},
   "outputs": [
    {
     "data": {
      "text/plain": [
       "<Order total: 42.00 due 42.00>"
      ]
     },
     "execution_count": 15,
     "metadata": {},
     "output_type": "execute_result"
    }
   ],
   "source": [
    "Order(joe, cart, LargeOrderPromo())"
   ]
  },
  {
   "cell_type": "code",
   "execution_count": 16,
   "id": "ce55813a",
   "metadata": {},
   "outputs": [],
   "source": [
    "class Order:\n",
    "    \"\"\"고객(nametuple) 및 LineItem 클래스의 인스턴스들을 cart로 받아서 총 계산할 가격을 산출\"\"\"\n",
    "    def __init__(self, customer, cart, promotion=None):\n",
    "        self.customer = customer\n",
    "        self.cart = list(cart)\n",
    "        self.promotion = promotion\n",
    "    \n",
    "    def total(self):\n",
    "        if not hasattr(self, '__total'):\n",
    "            self.__total = sum(item.total() for item in self.cart)\n",
    "        return self.__total\n",
    "\n",
    "    def due(self):\n",
    "        if self.promotion is None:\n",
    "            discount = 0\n",
    "        else:\n",
    "            discount = self.promotion(self)\n",
    "        return self.total() - discount\n",
    "    \n",
    "    def __repr__(self):\n",
    "        fmt = '<Order total: {:.2f} due: {:.2f}>'\n",
    "        return fmt.format(self.total(), self.due())\n"
   ]
  },
  {
   "cell_type": "code",
   "execution_count": 17,
   "id": "8fa6d105",
   "metadata": {},
   "outputs": [],
   "source": [
    "def fidelity_promo(order):\n",
    "    \"\"\"충성도 점수가 1000점 이상인 고객에게 전체 5% 할인 적용\"\"\"\n",
    "    return order.total() * 0.05 if order.customer.fidelity >= 1000 else 0\n",
    "\n",
    "def bulk_item_promo(order):\n",
    "    \"\"\"20개 이상의 동일 상품을 구입하면 10% 할인 적용\"\"\"\n",
    "    discount = 0\n",
    "    for item in order.cart:\n",
    "        if item.quantity >= 20:\n",
    "            discount += item.total() * 0.1\n",
    "    return discount\n",
    "\n",
    "def large_order_promo(order):\n",
    "    \"\"\"10종류 이상의 상품을 구입하면 전체 7% 할인 적용\"\"\"\n",
    "    distinct_items = {item.product for item in order.cart}\n",
    "    if len(distinct_items) >= 10:\n",
    "        return order.total() * 0.07\n",
    "    return 0"
   ]
  },
  {
   "cell_type": "code",
   "execution_count": 18,
   "id": "3e717aea",
   "metadata": {},
   "outputs": [
    {
     "data": {
      "text/plain": [
       "<Order total: 42.00 due: 42.00>"
      ]
     },
     "execution_count": 18,
     "metadata": {},
     "output_type": "execute_result"
    }
   ],
   "source": [
    "Order(joe, cart, fidelity_promo)"
   ]
  },
  {
   "cell_type": "code",
   "execution_count": 19,
   "id": "0ddc99d2",
   "metadata": {},
   "outputs": [
    {
     "data": {
      "text/plain": [
       "<Order total: 42.00 due: 39.90>"
      ]
     },
     "execution_count": 19,
     "metadata": {},
     "output_type": "execute_result"
    }
   ],
   "source": [
    "Order(ann, cart, fidelity_promo)"
   ]
  },
  {
   "cell_type": "code",
   "execution_count": 20,
   "id": "de680a27",
   "metadata": {},
   "outputs": [
    {
     "data": {
      "text/plain": [
       "<Order total: 30.00 due: 28.50>"
      ]
     },
     "execution_count": 20,
     "metadata": {},
     "output_type": "execute_result"
    }
   ],
   "source": [
    "Order(joe, banana_cart, bulk_item_promo)"
   ]
  },
  {
   "cell_type": "code",
   "execution_count": 21,
   "id": "57ef5cca",
   "metadata": {},
   "outputs": [
    {
     "data": {
      "text/plain": [
       "<Order total: 10.00 due: 9.30>"
      ]
     },
     "execution_count": 21,
     "metadata": {},
     "output_type": "execute_result"
    }
   ],
   "source": [
    "Order(ann, long_order, large_order_promo)"
   ]
  },
  {
   "cell_type": "code",
   "execution_count": 22,
   "id": "d901515f",
   "metadata": {},
   "outputs": [],
   "source": [
    "promos = [fidelity_promo, bulk_item_promo, large_order_promo]\n",
    "\n",
    "def best_promo(order):\n",
    "    \"\"\"최대로 할인받을 금액을 반환\"\"\"\n",
    "    return max(promo(order) for promo in promos)\n"
   ]
  },
  {
   "cell_type": "code",
   "execution_count": 23,
   "id": "aa8d4c98",
   "metadata": {},
   "outputs": [
    {
     "data": {
      "text/plain": [
       "<Order total: 10.00 due: 9.30>"
      ]
     },
     "execution_count": 23,
     "metadata": {},
     "output_type": "execute_result"
    }
   ],
   "source": [
    "Order(joe, long_order, best_promo)"
   ]
  },
  {
   "cell_type": "code",
   "execution_count": 24,
   "id": "1fe7efda",
   "metadata": {},
   "outputs": [
    {
     "data": {
      "text/plain": [
       "<Order total: 30.00 due: 28.50>"
      ]
     },
     "execution_count": 24,
     "metadata": {},
     "output_type": "execute_result"
    }
   ],
   "source": [
    "Order(joe, banana_cart, best_promo)"
   ]
  },
  {
   "cell_type": "code",
   "execution_count": 25,
   "id": "ae1670c6",
   "metadata": {},
   "outputs": [
    {
     "data": {
      "text/plain": [
       "<Order total: 42.00 due: 39.90>"
      ]
     },
     "execution_count": 25,
     "metadata": {},
     "output_type": "execute_result"
    }
   ],
   "source": [
    "Order(ann, cart, best_promo)"
   ]
  },
  {
   "cell_type": "code",
   "execution_count": 26,
   "id": "7417b63c",
   "metadata": {},
   "outputs": [
    {
     "data": {
      "text/plain": [
       "dict_keys(['__name__', '__doc__', '__package__', '__loader__', '__spec__', '__builtin__', '__builtins__', '_ih', '_oh', '_dh', 'In', 'Out', 'get_ipython', 'exit', 'quit', 'open', '_', '__', '___', '__vsc_ipynb_file__', '_i', '_ii', '_iii', '_i1', 'ABC', 'abstractmethod', 'namedtuple', 'Customer', 'park', '_1', '_i2', 'LineItem', '_i3', 'Order', '_i4', 'Promotion', '_i5', 'FidelityPromo', 'BulkItemPromo', 'LargeOrderPromo', '_i6', 'joe', 'ann', 'cart', '_i7', '_7', '_i8', '_i9', '_i10', '_10', '_i11', '_11', '_i12', 'banana_cart', '_i13', '_13', '_i14', 'long_order', '_14', '_i15', '_15', '_i16', '_i17', 'fidelity_promo', 'bulk_item_promo', 'large_order_promo', '_i18', '_18', '_i19', '_19', '_i20', '_20', '_i21', '_21', '_i22', 'promos', 'best_promo', '_i23', '_23', '_i24', '_24', '_i25', '_25', '_i26'])"
      ]
     },
     "execution_count": 26,
     "metadata": {},
     "output_type": "execute_result"
    }
   ],
   "source": [
    "globals().keys()"
   ]
  },
  {
   "cell_type": "code",
   "execution_count": 27,
   "id": "cfbda5aa",
   "metadata": {},
   "outputs": [
    {
     "data": {
      "text/plain": [
       "<function __main__.best_promo(order)>"
      ]
     },
     "execution_count": 27,
     "metadata": {},
     "output_type": "execute_result"
    }
   ],
   "source": [
    "globals()['best_promo']"
   ]
  },
  {
   "cell_type": "code",
   "execution_count": 28,
   "id": "a135da3d",
   "metadata": {},
   "outputs": [
    {
     "data": {
      "text/plain": [
       "[<function __main__.fidelity_promo(order)>,\n",
       " <function __main__.bulk_item_promo(order)>,\n",
       " <function __main__.large_order_promo(order)>]"
      ]
     },
     "execution_count": 28,
     "metadata": {},
     "output_type": "execute_result"
    }
   ],
   "source": [
    "promos = [globals()[name] for name in globals() if name.endswith('_promo') and name != 'best_promo']\n",
    "promos"
   ]
  }
 ],
 "metadata": {
  "kernelspec": {
   "display_name": "base",
   "language": "python",
   "name": "python3"
  },
  "language_info": {
   "codemirror_mode": {
    "name": "ipython",
    "version": 3
   },
   "file_extension": ".py",
   "mimetype": "text/x-python",
   "name": "python",
   "nbconvert_exporter": "python",
   "pygments_lexer": "ipython3",
   "version": "3.12.7"
  }
 },
 "nbformat": 4,
 "nbformat_minor": 5
}
